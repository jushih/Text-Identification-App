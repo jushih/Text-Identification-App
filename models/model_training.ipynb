{
  "nbformat": 4,
  "nbformat_minor": 0,
  "metadata": {
    "colab": {
      "name": "chinese-3L-CNN-all.ipynb",
      "version": "0.3.2",
      "provenance": [],
      "collapsed_sections": [],
      "toc_visible": true
    },
    "kernelspec": {
      "name": "python3",
      "display_name": "Python 3"
    },
    "accelerator": "TPU"
  },
  "cells": [
    {
      "cell_type": "code",
      "metadata": {
        "id": "Qwh1FXQkLBFJ",
        "colab_type": "code",
        "outputId": "b8467fcd-8a83-4822-839f-ccce27f7a179",
        "colab": {
          "base_uri": "https://localhost:8080/",
          "height": 127
        }
      },
      "source": [
        "from google.colab import drive\n",
        "drive.mount('/content/gdrive', force_remount=True)"
      ],
      "execution_count": 0,
      "outputs": [
        {
          "output_type": "stream",
          "text": [
            "Go to this URL in a browser: https://accounts.google.com/o/oauth2/auth?client_id=947318989803-6bn6qk8qdgf4n4g3pfee6491hc0brc4i.apps.googleusercontent.com&redirect_uri=urn%3Aietf%3Awg%3Aoauth%3A2.0%3Aoob&scope=email%20https%3A%2F%2Fwww.googleapis.com%2Fauth%2Fdocs.test%20https%3A%2F%2Fwww.googleapis.com%2Fauth%2Fdrive%20https%3A%2F%2Fwww.googleapis.com%2Fauth%2Fdrive.photos.readonly%20https%3A%2F%2Fwww.googleapis.com%2Fauth%2Fpeopleapi.readonly&response_type=code\n",
            "\n",
            "Enter your authorization code:\n",
            "··········\n",
            "Mounted at /content/gdrive\n"
          ],
          "name": "stdout"
        }
      ]
    },
    {
      "cell_type": "code",
      "metadata": {
        "id": "DmkHzcqALeS8",
        "colab_type": "code",
        "outputId": "cb67ba11-5115-49c1-ce7f-54143f9225b7",
        "colab": {
          "base_uri": "https://localhost:8080/",
          "height": 197
        }
      },
      "source": [
        "# check files are there\n",
        "!ls '/content/gdrive/My Drive/ch_train_set/'"
      ],
      "execution_count": 0,
      "outputs": [
        {
          "output_type": "stream",
          "text": [
            "a440  a45f  a476  a4e5\ta548  a5c9  a658  a6d5\ta8a7  a977  ab42  b0aa\tb773\n",
            "a447  a464  a4a3  a4e8\ta558  a5ce  a668  a6db\ta8ad  a9ce  ab48  b0ea\tb944\n",
            "a448  a467  a4a4  a4e9\ta55b  a5d0  a67e  a6e6\ta8ae  a9d2  ac46  b160\tbb44\n",
            "a44a  a46a  a4a7  a4eb\ta569  a5d5  a6a8  a6e7\ta8bd  a9fa  acdb  b16f\tbb50\n",
            "a451  a46b  a4bd  a4ec\ta56b  a5db  a6b3  a6e8\ta8c3  aa46  ad78  b1d0\tbec7\n",
            "a453  a46c  a4c0  a4f1\ta57e  a5df  a6b8  a740\ta8c6  aa47  adab  b3a3\n",
            "a454  a470  a4ce  a4f4\ta5a6  a5fd  a6b9  a751\ta8d3  aacc  adfb  b3bd\n",
            "a455  a473  a4d1  a4fb\ta5aa  a5fe  a6ca  a7da\ta8e0  aaf7  ae61  b3be\n",
            "a457  a474  a4d2  a4fd\ta5bf  a650  a6d1  a86b\ta8e2  aaf8  afe0  b54c\n",
            "a45d  a475  a4e2  a540\ta5c1  a656  a6d3  a8a3\ta8e4  aaf9  b0a8  b6c0\n"
          ],
          "name": "stdout"
        }
      ]
    },
    {
      "cell_type": "code",
      "metadata": {
        "id": "Aac5kQDbLCe1",
        "colab_type": "code",
        "outputId": "87216a44-58b0-48cf-e738-b4d52ff93480",
        "colab": {
          "base_uri": "https://localhost:8080/",
          "height": 53
        }
      },
      "source": [
        "from keras.models import Sequential\n",
        "from keras_preprocessing.image import ImageDataGenerator\n",
        "from keras.layers import Dense, Activation, Flatten, Dropout, BatchNormalization, InputLayer\n",
        "from keras.layers import Conv2D, MaxPooling2D, UpSampling2D, MaxPool2D\n",
        "from keras import regularizers, optimizers\n",
        "from keras.optimizers import SGD, Adam\n",
        "from keras import Model, Input\n",
        "\n",
        "from imageio import imread\n",
        "import matplotlib.image as mpimg\n",
        "import matplotlib.pyplot as plt\n",
        "import os\n",
        "import pandas as pd\n",
        "import numpy as np\n",
        "import pickle \n",
        "\n",
        "# TensorFlow and tf.keras\n",
        "import tensorflow as tf\n",
        "from tensorflow import keras\n",
        "\n",
        "# Helper libraries\n",
        "import numpy as np\n",
        "import matplotlib.pyplot as plt\n",
        "\n",
        "print(tf.__version__)"
      ],
      "execution_count": 0,
      "outputs": [
        {
          "output_type": "stream",
          "text": [
            "Using TensorFlow backend.\n"
          ],
          "name": "stderr"
        },
        {
          "output_type": "stream",
          "text": [
            "1.14.0\n"
          ],
          "name": "stdout"
        }
      ]
    },
    {
      "cell_type": "markdown",
      "metadata": {
        "id": "i32PHC6gDv6Z",
        "colab_type": "text"
      },
      "source": [
        "# Data Preprocessing\n",
        "## Create a dataframe of image paths "
      ]
    },
    {
      "cell_type": "code",
      "metadata": {
        "id": "aRCZgSe_MB5l",
        "colab_type": "code",
        "colab": {}
      },
      "source": [
        "# crawl folder for images\n",
        "def get_folders(root_dir):\n",
        "  f = []\n",
        "  for item in os.listdir(path):\n",
        "      if os.path.join(path, item):\n",
        "          f.append(path+item)\n",
        "          \n",
        "  return f\n",
        "      \n",
        "def get_files(root_dir):\n",
        "  f = []\n",
        "  for root, _, filenames in os.walk(path):\n",
        "    for filename in filenames:\n",
        "      f.append(os.path.join(root, filename))\n",
        "      \n",
        "  return f\n",
        "\n",
        "path = '/content/gdrive/My Drive/ch_train_set/'\n",
        "folders = get_folders(path)\n",
        "files = get_files(path) "
      ],
      "execution_count": 0,
      "outputs": []
    },
    {
      "cell_type": "code",
      "metadata": {
        "id": "zEZV_-QYL45Z",
        "colab_type": "code",
        "colab": {}
      },
      "source": [
        "# save paths to csv and load csv instead of crawling each time\n",
        "paths_df = pd.DataFrame({'files':files})\n",
        "#paths_df.to_csv('give folder here',index=False)"
      ],
      "execution_count": 0,
      "outputs": []
    },
    {
      "cell_type": "markdown",
      "metadata": {
        "id": "FAt51IHzD9FL",
        "colab_type": "text"
      },
      "source": [
        "## Add script and label columns"
      ]
    },
    {
      "cell_type": "code",
      "metadata": {
        "id": "jyxKhKvdNdq_",
        "colab_type": "code",
        "outputId": "8b31469d-8ffa-4107-e94b-bb9b2b639bb8",
        "colab": {
          "base_uri": "https://localhost:8080/",
          "height": 204
        }
      },
      "source": [
        "df = pd.DataFrame(files, columns=['filename'])\n",
        "# get rid of junk files\n",
        "df = df[df.filename.str.split('/').str[-1] != '.DS_Store']\n",
        "df['labels'] = df.filename.str.split('/').str[-1].str[0:4]\n",
        "df.tail()"
      ],
      "execution_count": 0,
      "outputs": [
        {
          "output_type": "execute_result",
          "data": {
            "text/html": [
              "<div>\n",
              "<style scoped>\n",
              "    .dataframe tbody tr th:only-of-type {\n",
              "        vertical-align: middle;\n",
              "    }\n",
              "\n",
              "    .dataframe tbody tr th {\n",
              "        vertical-align: top;\n",
              "    }\n",
              "\n",
              "    .dataframe thead th {\n",
              "        text-align: right;\n",
              "    }\n",
              "</style>\n",
              "<table border=\"1\" class=\"dataframe\">\n",
              "  <thead>\n",
              "    <tr style=\"text-align: right;\">\n",
              "      <th></th>\n",
              "      <th>filename</th>\n",
              "      <th>labels</th>\n",
              "    </tr>\n",
              "  </thead>\n",
              "  <tbody>\n",
              "    <tr>\n",
              "      <th>8278</th>\n",
              "      <td>/content/gdrive/My Drive/ch_train_set/a46a/a46...</td>\n",
              "      <td>a46a</td>\n",
              "    </tr>\n",
              "    <tr>\n",
              "      <th>8279</th>\n",
              "      <td>/content/gdrive/My Drive/ch_train_set/a46a/a46...</td>\n",
              "      <td>a46a</td>\n",
              "    </tr>\n",
              "    <tr>\n",
              "      <th>8280</th>\n",
              "      <td>/content/gdrive/My Drive/ch_train_set/a46a/a46...</td>\n",
              "      <td>a46a</td>\n",
              "    </tr>\n",
              "    <tr>\n",
              "      <th>8281</th>\n",
              "      <td>/content/gdrive/My Drive/ch_train_set/a46a/a46...</td>\n",
              "      <td>a46a</td>\n",
              "    </tr>\n",
              "    <tr>\n",
              "      <th>8282</th>\n",
              "      <td>/content/gdrive/My Drive/ch_train_set/a46a/a46...</td>\n",
              "      <td>a46a</td>\n",
              "    </tr>\n",
              "  </tbody>\n",
              "</table>\n",
              "</div>"
            ],
            "text/plain": [
              "                                               filename labels\n",
              "8278  /content/gdrive/My Drive/ch_train_set/a46a/a46...   a46a\n",
              "8279  /content/gdrive/My Drive/ch_train_set/a46a/a46...   a46a\n",
              "8280  /content/gdrive/My Drive/ch_train_set/a46a/a46...   a46a\n",
              "8281  /content/gdrive/My Drive/ch_train_set/a46a/a46...   a46a\n",
              "8282  /content/gdrive/My Drive/ch_train_set/a46a/a46...   a46a"
            ]
          },
          "metadata": {
            "tags": []
          },
          "execution_count": 5
        }
      ]
    },
    {
      "cell_type": "code",
      "metadata": {
        "id": "LMk0P6q5_lV7",
        "colab_type": "code",
        "outputId": "913e7bc7-2aa5-45f1-e7ff-31238619b17a",
        "colab": {
          "base_uri": "https://localhost:8080/",
          "height": 359
        }
      },
      "source": [
        "df['script'] = np.where(df.filename.str.split('/').str[-1].str.split('-').str[1].str.split('_').str[0].isna() == True, \"modern\", \n",
        "         df.filename.str.split('/').str[-1].str.split('-').str[1].str.split('_').str[0])\n",
        "\n",
        "df.head(10)"
      ],
      "execution_count": 0,
      "outputs": [
        {
          "output_type": "execute_result",
          "data": {
            "text/html": [
              "<div>\n",
              "<style scoped>\n",
              "    .dataframe tbody tr th:only-of-type {\n",
              "        vertical-align: middle;\n",
              "    }\n",
              "\n",
              "    .dataframe tbody tr th {\n",
              "        vertical-align: top;\n",
              "    }\n",
              "\n",
              "    .dataframe thead th {\n",
              "        text-align: right;\n",
              "    }\n",
              "</style>\n",
              "<table border=\"1\" class=\"dataframe\">\n",
              "  <thead>\n",
              "    <tr style=\"text-align: right;\">\n",
              "      <th></th>\n",
              "      <th>filename</th>\n",
              "      <th>labels</th>\n",
              "      <th>script</th>\n",
              "    </tr>\n",
              "  </thead>\n",
              "  <tbody>\n",
              "    <tr>\n",
              "      <th>1</th>\n",
              "      <td>/content/gdrive/My Drive/ch_train_set/a44a/a44...</td>\n",
              "      <td>a44a</td>\n",
              "      <td>jinwen</td>\n",
              "    </tr>\n",
              "    <tr>\n",
              "      <th>2</th>\n",
              "      <td>/content/gdrive/My Drive/ch_train_set/a44a/a44...</td>\n",
              "      <td>a44a</td>\n",
              "      <td>jinwen</td>\n",
              "    </tr>\n",
              "    <tr>\n",
              "      <th>3</th>\n",
              "      <td>/content/gdrive/My Drive/ch_train_set/a44a/a44...</td>\n",
              "      <td>a44a</td>\n",
              "      <td>jinwen</td>\n",
              "    </tr>\n",
              "    <tr>\n",
              "      <th>4</th>\n",
              "      <td>/content/gdrive/My Drive/ch_train_set/a44a/a44...</td>\n",
              "      <td>a44a</td>\n",
              "      <td>chuxi</td>\n",
              "    </tr>\n",
              "    <tr>\n",
              "      <th>5</th>\n",
              "      <td>/content/gdrive/My Drive/ch_train_set/a44a/a44...</td>\n",
              "      <td>a44a</td>\n",
              "      <td>jinwen</td>\n",
              "    </tr>\n",
              "    <tr>\n",
              "      <th>6</th>\n",
              "      <td>/content/gdrive/My Drive/ch_train_set/a44a/a44...</td>\n",
              "      <td>a44a</td>\n",
              "      <td>oracle</td>\n",
              "    </tr>\n",
              "    <tr>\n",
              "      <th>7</th>\n",
              "      <td>/content/gdrive/My Drive/ch_train_set/a44a/a44...</td>\n",
              "      <td>a44a</td>\n",
              "      <td>modern</td>\n",
              "    </tr>\n",
              "    <tr>\n",
              "      <th>8</th>\n",
              "      <td>/content/gdrive/My Drive/ch_train_set/a44a/a44...</td>\n",
              "      <td>a44a</td>\n",
              "      <td>jinwen</td>\n",
              "    </tr>\n",
              "    <tr>\n",
              "      <th>9</th>\n",
              "      <td>/content/gdrive/My Drive/ch_train_set/a44a/a44...</td>\n",
              "      <td>a44a</td>\n",
              "      <td>jinwen</td>\n",
              "    </tr>\n",
              "    <tr>\n",
              "      <th>10</th>\n",
              "      <td>/content/gdrive/My Drive/ch_train_set/a44a/a44...</td>\n",
              "      <td>a44a</td>\n",
              "      <td>jinwen</td>\n",
              "    </tr>\n",
              "  </tbody>\n",
              "</table>\n",
              "</div>"
            ],
            "text/plain": [
              "                                             filename labels  script\n",
              "1   /content/gdrive/My Drive/ch_train_set/a44a/a44...   a44a  jinwen\n",
              "2   /content/gdrive/My Drive/ch_train_set/a44a/a44...   a44a  jinwen\n",
              "3   /content/gdrive/My Drive/ch_train_set/a44a/a44...   a44a  jinwen\n",
              "4   /content/gdrive/My Drive/ch_train_set/a44a/a44...   a44a   chuxi\n",
              "5   /content/gdrive/My Drive/ch_train_set/a44a/a44...   a44a  jinwen\n",
              "6   /content/gdrive/My Drive/ch_train_set/a44a/a44...   a44a  oracle\n",
              "7   /content/gdrive/My Drive/ch_train_set/a44a/a44...   a44a  modern\n",
              "8   /content/gdrive/My Drive/ch_train_set/a44a/a44...   a44a  jinwen\n",
              "9   /content/gdrive/My Drive/ch_train_set/a44a/a44...   a44a  jinwen\n",
              "10  /content/gdrive/My Drive/ch_train_set/a44a/a44...   a44a  jinwen"
            ]
          },
          "metadata": {
            "tags": []
          },
          "execution_count": 6
        }
      ]
    },
    {
      "cell_type": "code",
      "metadata": {
        "id": "wN6pGqU1m9eO",
        "colab_type": "code",
        "colab": {}
      },
      "source": [
        "# find max size of group\n",
        "#max_size = df['labels'].value_counts().max()\n",
        "\n",
        "# upsample\n",
        "#lst = [df]\n",
        "#for class_index, group in df.groupby('labels'):\n",
        "#    lst.append(group.sample(max_size-len(group), replace=True))\n",
        "#df_new = pd.concat(lst)"
      ],
      "execution_count": 0,
      "outputs": []
    },
    {
      "cell_type": "code",
      "metadata": {
        "id": "-mqcdpoHsZ8z",
        "colab_type": "code",
        "colab": {}
      },
      "source": [
        ""
      ],
      "execution_count": 0,
      "outputs": []
    },
    {
      "cell_type": "markdown",
      "metadata": {
        "id": "bjA2e1DcEDgi",
        "colab_type": "text"
      },
      "source": [
        "## Subsample data\n",
        "\n",
        "For the prototype, I filter the dataset down to Jinwen era characters."
      ]
    },
    {
      "cell_type": "code",
      "metadata": {
        "id": "ylFMQShSg_S6",
        "colab_type": "code",
        "colab": {}
      },
      "source": [
        "df_sample = df[df.script == 'jinwen']\n",
        "#df_sample.labels.value_counts()"
      ],
      "execution_count": 0,
      "outputs": []
    },
    {
      "cell_type": "code",
      "metadata": {
        "id": "yi4u5eeiNy4x",
        "colab_type": "code",
        "colab": {}
      },
      "source": [
        "pd.options.mode.chained_assignment = None  # default='warn'\n",
        "df_sample['duplicated'] = df_sample[['labels']].duplicated(keep='first')"
      ],
      "execution_count": 0,
      "outputs": []
    },
    {
      "cell_type": "code",
      "metadata": {
        "id": "eLeWnqfPgbg_",
        "colab_type": "code",
        "colab": {}
      },
      "source": [
        "df1 = df_sample[df_sample['duplicated'] == False ] # get one unique example from each class\n",
        "df_dup = df_sample[df_sample['duplicated'] == True ]\n",
        "df2 = df_dup[df_dup.index % 2 != 0].sample(frac=1)  # Excludes every 3rd row starting from 0, shuffle these\n",
        "df3 = df_dup[df_dup.index % 2 == 0].sample(frac=1)  # Selects every 3rd row starting from 0, shuffle these  \n",
        "df_shuffle = pd.concat([df3,df2,df1])"
      ],
      "execution_count": 0,
      "outputs": []
    },
    {
      "cell_type": "code",
      "metadata": {
        "id": "9QUg-3WjfAhe",
        "colab_type": "code",
        "colab": {}
      },
      "source": [
        ""
      ],
      "execution_count": 0,
      "outputs": []
    },
    {
      "cell_type": "code",
      "metadata": {
        "id": "se3DG1McVbvU",
        "colab_type": "code",
        "outputId": "7201ed16-14af-4843-bd5e-b513b1564162",
        "colab": {
          "base_uri": "https://localhost:8080/",
          "height": 35
        }
      },
      "source": [
        "# check how many rows exist after filtering\n",
        "df_shuffle.shape"
      ],
      "execution_count": 0,
      "outputs": [
        {
          "output_type": "execute_result",
          "data": {
            "text/plain": [
              "(3809, 4)"
            ]
          },
          "metadata": {
            "tags": []
          },
          "execution_count": 11
        }
      ]
    },
    {
      "cell_type": "code",
      "metadata": {
        "id": "qZMaN86Luf3J",
        "colab_type": "code",
        "colab": {}
      },
      "source": [
        "#df.labels.drop_duplicates()"
      ],
      "execution_count": 0,
      "outputs": []
    },
    {
      "cell_type": "markdown",
      "metadata": {
        "id": "PtCJ3_7REcn8",
        "colab_type": "text"
      },
      "source": [
        "## Split into train, valid, and test data"
      ]
    },
    {
      "cell_type": "code",
      "metadata": {
        "id": "EboAUpwjLYCw",
        "colab_type": "code",
        "outputId": "57c72392-5794-482d-e952-37a6d2545cb6",
        "colab": {
          "base_uri": "https://localhost:8080/",
          "height": 71
        }
      },
      "source": [
        "# augment images\n",
        "datagen = ImageDataGenerator(\n",
        "    rescale=1./255. )#,\n",
        "#    rotation_range=5,\n",
        "#    width_shift_range=0.05,\n",
        "#   height_shift_range=0.05,\n",
        "#    horizontal_flip=False)\n",
        "\n",
        "\n",
        "# augment images\n",
        "valid_datagen = ImageDataGenerator(\n",
        "    rescale=1./255. )#,\n",
        "#    rotation_range=5,\n",
        "#    width_shift_range=0.05,\n",
        "#    height_shift_range=0.05,\n",
        "#    horizontal_flip=False)\n",
        "\n",
        "test_datagen=ImageDataGenerator(rescale=1./255.)\n",
        "\n",
        "\n",
        "train_generator=datagen.flow_from_dataframe(\n",
        "  dataframe=df_shuffle[:3000],\n",
        "  directory='/content/',\n",
        "  x_col=\"filename\",\n",
        "  y_col=\"labels\",\n",
        "  batch_size=25,\n",
        "  seed=42,\n",
        "  shuffle=True,\n",
        "  class_mode='categorical', \n",
        "  target_size=(50,50))\n",
        "\n",
        "valid_generator=valid_datagen.flow_from_dataframe(\n",
        "  dataframe=df_shuffle[3300:],\n",
        "  directory='/content/',\n",
        "  x_col=\"filename\",\n",
        "  y_col=\"labels\",\n",
        "  batch_size=25,\n",
        "  seed=42,\n",
        "  shuffle=True,\n",
        "  class_mode=\"categorical\",\n",
        "  target_size=(50,50))\n",
        "\n",
        "\n",
        "test_generator=test_datagen.flow_from_dataframe(\n",
        "  dataframe=df_shuffle[3000:3300],\n",
        "  directory=\"/content/\",\n",
        "  batch_size=25,\n",
        "  seed=42,\n",
        "  shuffle=False,\n",
        "  class_mode=None,\n",
        "  target_size=(50,50))\n",
        "\n"
      ],
      "execution_count": 0,
      "outputs": [
        {
          "output_type": "stream",
          "text": [
            "Found 3000 validated image filenames belonging to 120 classes.\n",
            "Found 509 validated image filenames belonging to 120 classes.\n",
            "Found 300 validated image filenames.\n"
          ],
          "name": "stdout"
        }
      ]
    },
    {
      "cell_type": "markdown",
      "metadata": {
        "id": "vrF_VJ4DEi8I",
        "colab_type": "text"
      },
      "source": [
        "# Model Training - 3L CNN"
      ]
    },
    {
      "cell_type": "markdown",
      "metadata": {
        "id": "oc5bsx50Tprn",
        "colab_type": "text"
      },
      "source": [
        "## Model architecture"
      ]
    },
    {
      "cell_type": "code",
      "metadata": {
        "id": "LIfPhrZe25O4",
        "colab_type": "code",
        "outputId": "712836a0-02d6-4180-e955-1debd74a5146",
        "colab": {
          "base_uri": "https://localhost:8080/",
          "height": 361
        }
      },
      "source": [
        "# create model\n",
        "\n",
        "model = Sequential()\n",
        "model.add(Dense(512, activation='relu', input_shape=(50,50,3)))\n",
        "model.add(Conv2D(filters=32,kernel_size=5,strides=1,padding='same',activation='relu'))\n",
        "model.add(MaxPool2D(pool_size=5,padding='same'))\n",
        "\n",
        "model.add(Conv2D(filters=80,kernel_size=5,strides=1,padding='same',activation='relu'))\n",
        "model.add(MaxPool2D(pool_size=5,padding='same'))\n",
        "\n",
        "model.add(Conv2D(filters=50,kernel_size=5,strides=1,padding='same',activation='relu'))\n",
        "model.add(MaxPool2D(pool_size=5,padding='same'))\n",
        "\n",
        "model.add(Dropout(0.25))\n",
        "model.add(Flatten())\n",
        "model.add(Dense(512,activation='relu'))\n",
        "model.add(Dropout(rate=0.5))\n",
        "model.add(Dense(120,activation='softmax'))\n",
        "\n",
        "adam = Adam()\n",
        "model.compile(adam, loss='categorical_crossentropy', metrics=['accuracy'])"
      ],
      "execution_count": 0,
      "outputs": [
        {
          "output_type": "stream",
          "text": [
            "WARNING: Logging before flag parsing goes to stderr.\n",
            "W0822 16:13:31.631130 139735489836928 deprecation_wrapper.py:119] From /usr/local/lib/python3.6/dist-packages/keras/backend/tensorflow_backend.py:74: The name tf.get_default_graph is deprecated. Please use tf.compat.v1.get_default_graph instead.\n",
            "\n",
            "W0822 16:13:31.694476 139735489836928 deprecation_wrapper.py:119] From /usr/local/lib/python3.6/dist-packages/keras/backend/tensorflow_backend.py:517: The name tf.placeholder is deprecated. Please use tf.compat.v1.placeholder instead.\n",
            "\n",
            "W0822 16:13:31.703622 139735489836928 deprecation_wrapper.py:119] From /usr/local/lib/python3.6/dist-packages/keras/backend/tensorflow_backend.py:4138: The name tf.random_uniform is deprecated. Please use tf.random.uniform instead.\n",
            "\n",
            "W0822 16:13:31.778022 139735489836928 deprecation_wrapper.py:119] From /usr/local/lib/python3.6/dist-packages/keras/backend/tensorflow_backend.py:3976: The name tf.nn.max_pool is deprecated. Please use tf.nn.max_pool2d instead.\n",
            "\n",
            "W0822 16:13:31.815603 139735489836928 deprecation_wrapper.py:119] From /usr/local/lib/python3.6/dist-packages/keras/backend/tensorflow_backend.py:133: The name tf.placeholder_with_default is deprecated. Please use tf.compat.v1.placeholder_with_default instead.\n",
            "\n",
            "W0822 16:13:31.828738 139735489836928 deprecation.py:506] From /usr/local/lib/python3.6/dist-packages/keras/backend/tensorflow_backend.py:3445: calling dropout (from tensorflow.python.ops.nn_ops) with keep_prob is deprecated and will be removed in a future version.\n",
            "Instructions for updating:\n",
            "Please use `rate` instead of `keep_prob`. Rate should be set to `rate = 1 - keep_prob`.\n",
            "W0822 16:13:31.934759 139735489836928 deprecation_wrapper.py:119] From /usr/local/lib/python3.6/dist-packages/keras/optimizers.py:790: The name tf.train.Optimizer is deprecated. Please use tf.compat.v1.train.Optimizer instead.\n",
            "\n",
            "W0822 16:13:31.946405 139735489836928 deprecation_wrapper.py:119] From /usr/local/lib/python3.6/dist-packages/keras/backend/tensorflow_backend.py:3295: The name tf.log is deprecated. Please use tf.math.log instead.\n",
            "\n"
          ],
          "name": "stderr"
        }
      ]
    },
    {
      "cell_type": "code",
      "metadata": {
        "id": "0YRz1fqVkQMm",
        "colab_type": "code",
        "colab": {}
      },
      "source": [
        "from sklearn.utils import class_weight\n",
        "\n",
        "class_weights = class_weight.compute_class_weight('balanced',\n",
        "                                                 np.unique(df_shuffle.labels),\n",
        "                                                 df_shuffle.labels)"
      ],
      "execution_count": 0,
      "outputs": []
    },
    {
      "cell_type": "markdown",
      "metadata": {
        "id": "UQf30MJrTvkg",
        "colab_type": "text"
      },
      "source": [
        "## Model training"
      ]
    },
    {
      "cell_type": "code",
      "metadata": {
        "id": "hBAD0tW3L0s8",
        "colab_type": "code",
        "outputId": "ad140c89-32ca-4bc7-e94c-534c6e78db16",
        "colab": {
          "base_uri": "https://localhost:8080/",
          "height": 811
        }
      },
      "source": [
        "# train model\n",
        "STEP_SIZE_TRAIN=train_generator.n//train_generator.batch_size\n",
        "STEP_SIZE_VALID=valid_generator.n//valid_generator.batch_size\n",
        "history = model.fit_generator(generator=train_generator,\n",
        "                    steps_per_epoch=STEP_SIZE_TRAIN,\n",
        "                    validation_data=valid_generator,\n",
        "                    validation_steps=STEP_SIZE_VALID,\n",
        "                    epochs=20,\n",
        "                    class_weight=class_weights)"
      ],
      "execution_count": 0,
      "outputs": [
        {
          "output_type": "stream",
          "text": [
            "W0822 16:13:32.847178 139735489836928 deprecation.py:323] From /usr/local/lib/python3.6/dist-packages/tensorflow/python/ops/math_grad.py:1250: add_dispatch_support.<locals>.wrapper (from tensorflow.python.ops.array_ops) is deprecated and will be removed in a future version.\n",
            "Instructions for updating:\n",
            "Use tf.where in 2.0, which has the same broadcast rule as np.where\n"
          ],
          "name": "stderr"
        },
        {
          "output_type": "stream",
          "text": [
            "Epoch 1/20\n",
            "120/120 [==============================] - 817s 7s/step - loss: 4.4800 - acc: 0.0377 - val_loss: 4.5125 - val_acc: 0.0320\n",
            "Epoch 2/20\n",
            "120/120 [==============================] - 778s 6s/step - loss: 4.0536 - acc: 0.1050 - val_loss: 3.8443 - val_acc: 0.1880\n",
            "Epoch 3/20\n",
            "120/120 [==============================] - 788s 7s/step - loss: 3.1933 - acc: 0.2583 - val_loss: 2.8572 - val_acc: 0.3554\n",
            "Epoch 4/20\n",
            "120/120 [==============================] - 783s 7s/step - loss: 2.6032 - acc: 0.3660 - val_loss: 2.5294 - val_acc: 0.4380\n",
            "Epoch 5/20\n",
            "120/120 [==============================] - 779s 6s/step - loss: 2.2366 - acc: 0.4403 - val_loss: 2.2771 - val_acc: 0.4793\n",
            "Epoch 6/20\n",
            "120/120 [==============================] - 787s 7s/step - loss: 1.9897 - acc: 0.4873 - val_loss: 1.9275 - val_acc: 0.5558\n",
            "Epoch 7/20\n",
            "120/120 [==============================] - 775s 6s/step - loss: 1.7417 - acc: 0.5467 - val_loss: 1.9012 - val_acc: 0.5620\n",
            "Epoch 8/20\n",
            "120/120 [==============================] - 771s 6s/step - loss: 1.5786 - acc: 0.5830 - val_loss: 1.6986 - val_acc: 0.5950\n",
            "Epoch 9/20\n",
            "120/120 [==============================] - 769s 6s/step - loss: 1.4225 - acc: 0.6090 - val_loss: 1.7056 - val_acc: 0.5930\n",
            "Epoch 10/20\n",
            "120/120 [==============================] - 775s 6s/step - loss: 1.3238 - acc: 0.6297 - val_loss: 1.6569 - val_acc: 0.6178\n",
            "Epoch 11/20\n",
            "120/120 [==============================] - 782s 7s/step - loss: 1.2374 - acc: 0.6530 - val_loss: 1.6717 - val_acc: 0.6074\n",
            "Epoch 12/20\n",
            "120/120 [==============================] - 785s 7s/step - loss: 1.1653 - acc: 0.6687 - val_loss: 1.5945 - val_acc: 0.6281\n",
            "Epoch 13/20\n",
            "120/120 [==============================] - 789s 7s/step - loss: 1.0928 - acc: 0.6873 - val_loss: 1.5640 - val_acc: 0.6157\n",
            "Epoch 14/20\n",
            "120/120 [==============================] - 794s 7s/step - loss: 1.0258 - acc: 0.7053 - val_loss: 1.5764 - val_acc: 0.6550\n",
            "Epoch 15/20\n",
            "120/120 [==============================] - 781s 7s/step - loss: 1.0201 - acc: 0.7110 - val_loss: 1.5772 - val_acc: 0.6322\n",
            "Epoch 16/20\n",
            "120/120 [==============================] - 791s 7s/step - loss: 0.9604 - acc: 0.7270 - val_loss: 1.5413 - val_acc: 0.6384\n",
            "Epoch 17/20\n",
            "120/120 [==============================] - 788s 7s/step - loss: 0.8786 - acc: 0.7377 - val_loss: 1.5585 - val_acc: 0.6715\n",
            "Epoch 18/20\n",
            "120/120 [==============================] - 772s 6s/step - loss: 0.8592 - acc: 0.7450 - val_loss: 1.5270 - val_acc: 0.6446\n",
            "Epoch 19/20\n",
            "120/120 [==============================] - 777s 6s/step - loss: 0.8310 - acc: 0.7563 - val_loss: 1.4961 - val_acc: 0.6508\n",
            "Epoch 20/20\n",
            "120/120 [==============================] - 781s 7s/step - loss: 0.7703 - acc: 0.7763 - val_loss: 1.6032 - val_acc: 0.6550\n"
          ],
          "name": "stdout"
        }
      ]
    },
    {
      "cell_type": "code",
      "metadata": {
        "id": "flS7dHtbKd7x",
        "colab_type": "code",
        "colab": {}
      },
      "source": [
        ""
      ],
      "execution_count": 0,
      "outputs": []
    },
    {
      "cell_type": "code",
      "metadata": {
        "id": "F1Zo2NyhFzqI",
        "colab_type": "code",
        "outputId": "beb63534-9a1d-4e0f-ac23-bc0c45e89ab2",
        "colab": {
          "base_uri": "https://localhost:8080/",
          "height": 295
        }
      },
      "source": [
        "plt.plot(history.history['acc'])\n",
        "plt.plot(history.history['val_acc'])\n",
        "plt.title('model accuracy')\n",
        "plt.ylabel('accuracy')\n",
        "plt.xlabel('epoch')\n",
        "plt.legend(['train', 'val'], loc='upper left')\n",
        "plt.show()"
      ],
      "execution_count": 0,
      "outputs": [
        {
          "output_type": "display_data",
          "data": {
            "image/png": "[encoded data removed]",
            "text/plain": [
              "<Figure size 432x288 with 1 Axes>"
            ]
          },
          "metadata": {
            "tags": []
          }
        }
      ]
    },
    {
      "cell_type": "code",
      "metadata": {
        "id": "E5pK_LO-qc6F",
        "colab_type": "code",
        "colab": {}
      },
      "source": [
        "# save model weights\n",
        "model.save('/content/gdrive/My Drive/chinese/model.h5')\n",
        "model.save_weights('/content/gdrive/My Drive/chinese/model_weights.h5')\n",
        "\n",
        "# save model json\n",
        "model_json = model.to_json()\n",
        "with open('/content/gdrive/My Drive/chinese/model.json', 'w') as json_file:\n",
        "  json_file.write(model_json)"
      ],
      "execution_count": 0,
      "outputs": []
    },
    {
      "cell_type": "code",
      "metadata": {
        "id": "hmcL05CEWTHw",
        "colab_type": "code",
        "outputId": "4f53baa1-2030-45eb-91b3-8c7566c9dfa1",
        "colab": {
          "base_uri": "https://localhost:8080/",
          "height": 575
        }
      },
      "source": [
        "# load model\n",
        "from keras.models import load_model\n",
        "\n",
        "model = load_model('/content/gdrive/My Drive/chinese/model.h5')\n",
        "model.summary()"
      ],
      "execution_count": 0,
      "outputs": [
        {
          "output_type": "stream",
          "text": [
            "_________________________________________________________________\n",
            "Layer (type)                 Output Shape              Param #   \n",
            "=================================================================\n",
            "dense_1 (Dense)              (None, 50, 50, 512)       2048      \n",
            "_________________________________________________________________\n",
            "conv2d_1 (Conv2D)            (None, 50, 50, 32)        409632    \n",
            "_________________________________________________________________\n",
            "max_pooling2d_1 (MaxPooling2 (None, 10, 10, 32)        0         \n",
            "_________________________________________________________________\n",
            "conv2d_2 (Conv2D)            (None, 10, 10, 80)        64080     \n",
            "_________________________________________________________________\n",
            "max_pooling2d_2 (MaxPooling2 (None, 2, 2, 80)          0         \n",
            "_________________________________________________________________\n",
            "conv2d_3 (Conv2D)            (None, 2, 2, 50)          100050    \n",
            "_________________________________________________________________\n",
            "max_pooling2d_3 (MaxPooling2 (None, 1, 1, 50)          0         \n",
            "_________________________________________________________________\n",
            "dropout_1 (Dropout)          (None, 1, 1, 50)          0         \n",
            "_________________________________________________________________\n",
            "flatten_1 (Flatten)          (None, 50)                0         \n",
            "_________________________________________________________________\n",
            "dense_2 (Dense)              (None, 512)               26112     \n",
            "_________________________________________________________________\n",
            "dropout_2 (Dropout)          (None, 512)               0         \n",
            "_________________________________________________________________\n",
            "dense_3 (Dense)              (None, 120)               61560     \n",
            "=================================================================\n",
            "Total params: 663,482\n",
            "Trainable params: 663,482\n",
            "Non-trainable params: 0\n",
            "_________________________________________________________________\n"
          ],
          "name": "stdout"
        }
      ]
    },
    {
      "cell_type": "code",
      "metadata": {
        "id": "Ou6hSCakUGIP",
        "colab_type": "code",
        "colab": {}
      },
      "source": [
        ""
      ],
      "execution_count": 0,
      "outputs": []
    },
    {
      "cell_type": "markdown",
      "metadata": {
        "id": "bfp4RcK6T1Yc",
        "colab_type": "text"
      },
      "source": [
        "# Validation"
      ]
    },
    {
      "cell_type": "markdown",
      "metadata": {
        "id": "nbS38hCYTZsU",
        "colab_type": "text"
      },
      "source": [
        "## Predict on test data"
      ]
    },
    {
      "cell_type": "code",
      "metadata": {
        "id": "ssLZ2cu1SFIF",
        "colab_type": "code",
        "colab": {}
      },
      "source": [
        "\n",
        "filenames = test_generator.filenames\n",
        "nb_samples = len(filenames)\n",
        "\n",
        "# make predictions on test data\n",
        "predict = model.predict_generator(test_generator,steps = nb_samples/25) # nb_samples/batch size of test data\n",
        "\n",
        "# get categories\n",
        "predicted_class_indices=np.argmax(predict,axis=1)\n",
        "\n",
        "labels = (train_generator.class_indices)\n",
        "labels = dict((v,k) for k,v in labels.items())\n",
        "predictions = [labels[k] for k in predicted_class_indices]\n",
        "\n",
        "# create df of results\n",
        "filenames=test_generator.filenames\n",
        "results=pd.DataFrame({\"filename\":filenames,\n",
        "                      \"predictions\":predictions})"
      ],
      "execution_count": 0,
      "outputs": []
    },
    {
      "cell_type": "code",
      "metadata": {
        "id": "lDlKwPMnXoMS",
        "colab_type": "code",
        "outputId": "1ba931ef-1c90-46d2-c70b-93b577b52aa5",
        "colab": {
          "base_uri": "https://localhost:8080/",
          "height": 204
        }
      },
      "source": [
        "results['actual'] = results.filename.str.split('/').str[-1].str[:4]\n",
        "results['correct'] = np.where(results.predictions==results.actual,1,0)\n",
        "results.head()"
      ],
      "execution_count": 0,
      "outputs": [
        {
          "output_type": "execute_result",
          "data": {
            "text/html": [
              "<div>\n",
              "<style scoped>\n",
              "    .dataframe tbody tr th:only-of-type {\n",
              "        vertical-align: middle;\n",
              "    }\n",
              "\n",
              "    .dataframe tbody tr th {\n",
              "        vertical-align: top;\n",
              "    }\n",
              "\n",
              "    .dataframe thead th {\n",
              "        text-align: right;\n",
              "    }\n",
              "</style>\n",
              "<table border=\"1\" class=\"dataframe\">\n",
              "  <thead>\n",
              "    <tr style=\"text-align: right;\">\n",
              "      <th></th>\n",
              "      <th>filename</th>\n",
              "      <th>predictions</th>\n",
              "      <th>actual</th>\n",
              "      <th>correct</th>\n",
              "    </tr>\n",
              "  </thead>\n",
              "  <tbody>\n",
              "    <tr>\n",
              "      <th>0</th>\n",
              "      <td>/content/gdrive/My Drive/ch_train_set/a8e4/a8e...</td>\n",
              "      <td>a4eb</td>\n",
              "      <td>a8e4</td>\n",
              "      <td>0</td>\n",
              "    </tr>\n",
              "    <tr>\n",
              "      <th>1</th>\n",
              "      <td>/content/gdrive/My Drive/ch_train_set/a5ce/a5c...</td>\n",
              "      <td>a46b</td>\n",
              "      <td>a5ce</td>\n",
              "      <td>0</td>\n",
              "    </tr>\n",
              "    <tr>\n",
              "      <th>2</th>\n",
              "      <td>/content/gdrive/My Drive/ch_train_set/a45f/a45...</td>\n",
              "      <td>a8a3</td>\n",
              "      <td>a45f</td>\n",
              "      <td>0</td>\n",
              "    </tr>\n",
              "    <tr>\n",
              "      <th>3</th>\n",
              "      <td>/content/gdrive/My Drive/ch_train_set/a451/a45...</td>\n",
              "      <td>a7da</td>\n",
              "      <td>a451</td>\n",
              "      <td>0</td>\n",
              "    </tr>\n",
              "    <tr>\n",
              "      <th>4</th>\n",
              "      <td>/content/gdrive/My Drive/ch_train_set/a4e8/a4e...</td>\n",
              "      <td>a6db</td>\n",
              "      <td>a4e8</td>\n",
              "      <td>0</td>\n",
              "    </tr>\n",
              "  </tbody>\n",
              "</table>\n",
              "</div>"
            ],
            "text/plain": [
              "                                            filename  ... correct\n",
              "0  /content/gdrive/My Drive/ch_train_set/a8e4/a8e...  ...       0\n",
              "1  /content/gdrive/My Drive/ch_train_set/a5ce/a5c...  ...       0\n",
              "2  /content/gdrive/My Drive/ch_train_set/a45f/a45...  ...       0\n",
              "3  /content/gdrive/My Drive/ch_train_set/a451/a45...  ...       0\n",
              "4  /content/gdrive/My Drive/ch_train_set/a4e8/a4e...  ...       0\n",
              "\n",
              "[5 rows x 4 columns]"
            ]
          },
          "metadata": {
            "tags": []
          },
          "execution_count": 108
        }
      ]
    },
    {
      "cell_type": "code",
      "metadata": {
        "id": "OAMwuy7mJsZq",
        "colab_type": "code",
        "outputId": "554a496e-81a3-4505-efd2-9d8c52530f5c",
        "colab": {
          "base_uri": "https://localhost:8080/",
          "height": 71
        }
      },
      "source": [
        "results.correct.value_counts()"
      ],
      "execution_count": 0,
      "outputs": [
        {
          "output_type": "execute_result",
          "data": {
            "text/plain": [
              "1    225\n",
              "0     75\n",
              "Name: correct, dtype: int64"
            ]
          },
          "metadata": {
            "tags": []
          },
          "execution_count": 23
        }
      ]
    },
    {
      "cell_type": "markdown",
      "metadata": {
        "id": "zREIfp8eTex1",
        "colab_type": "text"
      },
      "source": [
        "## Calculate accuracy"
      ]
    },
    {
      "cell_type": "code",
      "metadata": {
        "id": "uRcM-sETXp7q",
        "colab_type": "code",
        "outputId": "c2cc1d6a-8e90-4b8e-8711-2bfb65e28f54",
        "colab": {
          "base_uri": "https://localhost:8080/",
          "height": 35
        }
      },
      "source": [
        "print('Accuracy of predictions on test data:', (results.correct.sum() / results.shape[0])*100,'%.')"
      ],
      "execution_count": 0,
      "outputs": [
        {
          "output_type": "stream",
          "text": [
            "Accuracy of predictions on test data: 75.0 %.\n"
          ],
          "name": "stdout"
        }
      ]
    },
    {
      "cell_type": "code",
      "metadata": {
        "id": "ka_jAURMMm4c",
        "colab_type": "code",
        "colab": {}
      },
      "source": [
        "#results[results.correct == 0]"
      ],
      "execution_count": 0,
      "outputs": []
    },
    {
      "cell_type": "markdown",
      "metadata": {
        "id": "acjmi1jYTiM2",
        "colab_type": "text"
      },
      "source": [
        "## Investigate misclassified characters"
      ]
    },
    {
      "cell_type": "code",
      "metadata": {
        "id": "i2vWfDXmNDBp",
        "colab_type": "code",
        "colab": {}
      },
      "source": [
        "def sample_characters(character):\n",
        "  w=100\n",
        "  h=100\n",
        "  fig=plt.figure(figsize=(8, 8))\n",
        "  columns = 4\n",
        "  rows = 1\n",
        "  for i in range(1, columns*rows +1):\n",
        "    filename = df_sample[df_sample.labels==character].filename.tolist()[i]\n",
        "    img = mpimg.imread(filename)\n",
        "    fig.add_subplot(rows, columns, i)\n",
        "    plt.imshow(img)\n",
        "  plt.show()"
      ],
      "execution_count": 0,
      "outputs": []
    },
    {
      "cell_type": "code",
      "metadata": {
        "id": "IqyODBRe6A3K",
        "colab_type": "code",
        "outputId": "bc69a31e-f82d-4327-912f-4e5a1769ce7b",
        "colab": {
          "base_uri": "https://localhost:8080/",
          "height": 1000
        }
      },
      "source": [
        "# Let's visualize the a few incorrect images\n",
        "n = 0\n",
        "\n",
        "for index, row in results[results.correct == 0].iterrows():\n",
        "  print(row.filename)\n",
        "  img=mpimg.imread(row.filename)\n",
        "  imgplot = plt.imshow(img)\n",
        "  plt.title('Image:')\n",
        "  plt.axis('off')\n",
        "  plt.show()\n",
        "  \n",
        "  print('Predicted:', row.predictions, bytes.fromhex(row.predictions).decode('big5'))\n",
        "  sample_characters(row.predictions)\n",
        "  print('Actual:', row.actual, bytes.fromhex(row.actual).decode('big5'))\n",
        "  sample_characters(row.actual)\n",
        "  \n",
        "  print('----------------------------------------')\n",
        "\n",
        "  n+=1\n",
        "  if n==3:\n",
        "    break"
      ],
      "execution_count": 0,
      "outputs": [
        {
          "output_type": "stream",
          "text": [
            "/content/gdrive/My Drive/ch_train_set/a8e4/a8e4-jinwen_098.png\n"
          ],
          "name": "stdout"
        },
        {
          "output_type": "display_data",
          "data": {
            "image/png": "[encoded data removed]",
            "text/plain": [
              "<Figure size 432x288 with 1 Axes>"
            ]
          },
          "metadata": {
            "tags": []
          }
        },
        {
          "output_type": "stream",
          "text": [
            "Predicted: a4eb 月\n"
          ],
          "name": "stdout"
        },
        {
          "output_type": "display_data",
          "data": {
            "image/png": "[encoded data removed]",
            "text/plain": [
              "<Figure size 576x576 with 4 Axes>"
            ]
          },
          "metadata": {
            "tags": []
          }
        },
        {
          "output_type": "stream",
          "text": [
            "Actual: a8e4 其\n"
          ],
          "name": "stdout"
        },
        {
          "output_type": "display_data",
          "data": {
            "image/png": "[encoded data removed]",
            "text/plain": [
              "<Figure size 576x576 with 4 Axes>"
            ]
          },
          "metadata": {
            "tags": []
          }
        },
        {
          "output_type": "stream",
          "text": [
            "----------------------------------------\n",
            "/content/gdrive/My Drive/ch_train_set/a5ce/a5ce-jinwen_011.png\n"
          ],
          "name": "stdout"
        },
        {
          "output_type": "display_data",
          "data": {
            "image/png": "[encoded data removed]",
            "text/plain": [
              "<Figure size 432x288 with 1 Axes>"
            ]
          },
          "metadata": {
            "tags": []
          }
        },
        {
          "output_type": "stream",
          "text": [
            "Predicted: a46b 女\n"
          ],
          "name": "stdout"
        },
        {
          "output_type": "display_data",
          "data": {
            "image/png": "[encoded data removed]",
            "text/plain": [
              "<Figure size 576x576 with 4 Axes>"
            ]
          },
          "metadata": {
            "tags": []
          }
        },
        {
          "output_type": "stream",
          "text": [
            "Actual: a5ce 用\n"
          ],
          "name": "stdout"
        },
        {
          "output_type": "display_data",
          "data": {
            "image/png": "[encoded data removed]",
            "text/plain": [
              "<Figure size 576x576 with 4 Axes>"
            ]
          },
          "metadata": {
            "tags": []
          }
        },
        {
          "output_type": "stream",
          "text": [
            "----------------------------------------\n",
            "/content/gdrive/My Drive/ch_train_set/a45f/a45f-jinwen_061.png\n"
          ],
          "name": "stdout"
        },
        {
          "output_type": "display_data",
          "data": {
            "image/png": "[encoded data removed]",
            "text/plain": [
              "<Figure size 432x288 with 1 Axes>"
            ]
          },
          "metadata": {
            "tags": []
          }
        },
        {
          "output_type": "stream",
          "text": [
            "Predicted: a8a3 見\n"
          ],
          "name": "stdout"
        },
        {
          "output_type": "display_data",
          "data": {
            "image/png": "[encoded data removed]",
            "text/plain": [
              "<Figure size 576x576 with 4 Axes>"
            ]
          },
          "metadata": {
            "tags": []
          }
        },
        {
          "output_type": "stream",
          "text": [
            "Actual: a45f 于\n"
          ],
          "name": "stdout"
        },
        {
          "output_type": "display_data",
          "data": {
            "image/png": "[encoded data removed]",
            "text/plain": [
              "<Figure size 576x576 with 4 Axes>"
            ]
          },
          "metadata": {
            "tags": []
          }
        },
        {
          "output_type": "stream",
          "text": [
            "----------------------------------------\n"
          ],
          "name": "stdout"
        }
      ]
    },
    {
      "cell_type": "markdown",
      "metadata": {
        "id": "u3GjUZPyVgek",
        "colab_type": "text"
      },
      "source": [
        "## Look at correctly classified characters"
      ]
    },
    {
      "cell_type": "code",
      "metadata": {
        "id": "vVZ4NmTfVjdx",
        "colab_type": "code",
        "outputId": "c9505975-2a04-4a93-de90-99476e8d94ec",
        "colab": {
          "base_uri": "https://localhost:8080/",
          "height": 1000
        }
      },
      "source": [
        "n = 0\n",
        "\n",
        "for index, row in results[results.correct == 1].iterrows():\n",
        "  print(row.filename)\n",
        "  img=mpimg.imread(row.filename)\n",
        "  imgplot = plt.imshow(img)\n",
        "  plt.title('Image:')\n",
        "  plt.axis('off')\n",
        "  plt.show()\n",
        "  \n",
        "  print('Correctly predicted:', bytes.fromhex(row.predictions).decode('big5'))\n",
        "  sample_characters(row.predictions)\n",
        "\n",
        "  print('----------------------------------------')\n",
        "\n",
        "  n+=1\n",
        "  if n==3:\n",
        "    break"
      ],
      "execution_count": 0,
      "outputs": [
        {
          "output_type": "stream",
          "text": [
            "/content/gdrive/My Drive/ch_train_set/a5ce/a5ce-jinwen_009.png\n"
          ],
          "name": "stdout"
        },
        {
          "output_type": "display_data",
          "data": {
            "image/png": "[encoded data removed]",
            "text/plain": [
              "<Figure size 432x288 with 1 Axes>"
            ]
          },
          "metadata": {
            "tags": []
          }
        },
        {
          "output_type": "stream",
          "text": [
            "Correctly predicted: 用\n"
          ],
          "name": "stdout"
        },
        {
          "output_type": "display_data",
          "data": {
            "image/png": "[encoded data removed]",
            "text/plain": [
              "<Figure size 576x576 with 4 Axes>"
            ]
          },
          "metadata": {
            "tags": []
          }
        },
        {
          "output_type": "stream",
          "text": [
            "----------------------------------------\n",
            "/content/gdrive/My Drive/ch_train_set/a6db/a6db-jinwen_000.png\n"
          ],
          "name": "stdout"
        },
        {
          "output_type": "display_data",
          "data": {
            "image/png": "[encoded data removed]",
            "text/plain": [
              "<Figure size 432x288 with 1 Axes>"
            ]
          },
          "metadata": {
            "tags": []
          }
        },
        {
          "output_type": "stream",
          "text": [
            "Correctly predicted: 自\n"
          ],
          "name": "stdout"
        },
        {
          "output_type": "display_data",
          "data": {
            "image/png": "[encoded data removed]",
            "text/plain": [
              "<Figure size 576x576 with 4 Axes>"
            ]
          },
          "metadata": {
            "tags": []
          }
        },
        {
          "output_type": "stream",
          "text": [
            "----------------------------------------\n",
            "/content/gdrive/My Drive/ch_train_set/a5ce/a5ce-jinwen_109.png\n"
          ],
          "name": "stdout"
        },
        {
          "output_type": "display_data",
          "data": {
            "image/png": "[encoded data removed]",
            "text/plain": [
              "<Figure size 432x288 with 1 Axes>"
            ]
          },
          "metadata": {
            "tags": []
          }
        },
        {
          "output_type": "stream",
          "text": [
            "Correctly predicted: 用\n"
          ],
          "name": "stdout"
        },
        {
          "output_type": "display_data",
          "data": {
            "image/png": "[encoded data removed]",
            "text/plain": [
              "<Figure size 576x576 with 4 Axes>"
            ]
          },
          "metadata": {
            "tags": []
          }
        },
        {
          "output_type": "stream",
          "text": [
            "----------------------------------------\n"
          ],
          "name": "stdout"
        }
      ]
    },
    {
      "cell_type": "code",
      "metadata": {
        "id": "AYDVdKwZWA7Z",
        "colab_type": "code",
        "colab": {}
      },
      "source": [
        ""
      ],
      "execution_count": 0,
      "outputs": []
    },
    {
      "cell_type": "markdown",
      "metadata": {
        "id": "T41q1KcFmLtY",
        "colab_type": "text"
      },
      "source": [
        "# Identifying ancient Chinese text\n",
        "I will put my model into action and predict the character of an image without labels."
      ]
    },
    {
      "cell_type": "code",
      "metadata": {
        "id": "GTMQht9CmPh4",
        "colab_type": "code",
        "outputId": "d43d55e2-3280-4165-8755-43870f508df1",
        "colab": {
          "base_uri": "https://localhost:8080/",
          "height": 80
        }
      },
      "source": [
        "path = '/content/gdrive/My Drive/chinese/holdout/character_classification/char_042.png'\n",
        "path = '/content/gdrive/My Drive/chinese/holdout/character_classification/c4.png'\n",
        "\n",
        "\n",
        "data = {'filename':[path]} \n",
        "\n",
        "df_holdout = pd.DataFrame(data) \n",
        "df_holdout.head(10)"
      ],
      "execution_count": 0,
      "outputs": [
        {
          "output_type": "execute_result",
          "data": {
            "text/html": [
              "<div>\n",
              "<style scoped>\n",
              "    .dataframe tbody tr th:only-of-type {\n",
              "        vertical-align: middle;\n",
              "    }\n",
              "\n",
              "    .dataframe tbody tr th {\n",
              "        vertical-align: top;\n",
              "    }\n",
              "\n",
              "    .dataframe thead th {\n",
              "        text-align: right;\n",
              "    }\n",
              "</style>\n",
              "<table border=\"1\" class=\"dataframe\">\n",
              "  <thead>\n",
              "    <tr style=\"text-align: right;\">\n",
              "      <th></th>\n",
              "      <th>filename</th>\n",
              "    </tr>\n",
              "  </thead>\n",
              "  <tbody>\n",
              "    <tr>\n",
              "      <th>0</th>\n",
              "      <td>/content/gdrive/My Drive/chinese/holdout/chara...</td>\n",
              "    </tr>\n",
              "  </tbody>\n",
              "</table>\n",
              "</div>"
            ],
            "text/plain": [
              "                                            filename\n",
              "0  /content/gdrive/My Drive/chinese/holdout/chara..."
            ]
          },
          "metadata": {
            "tags": []
          },
          "execution_count": 103
        }
      ]
    },
    {
      "cell_type": "code",
      "metadata": {
        "id": "L7xeF4b8q0cX",
        "colab_type": "code",
        "outputId": "07d2f510-6016-43cd-b974-8fb07cedc956",
        "colab": {
          "base_uri": "https://localhost:8080/",
          "height": 98
        }
      },
      "source": [
        "\n",
        "holdout_datagen=ImageDataGenerator(rescale=1./255.)\n",
        "\n",
        "holdout_generator=holdout_datagen.flow_from_dataframe(\n",
        "  dataframe=df_holdout,\n",
        "  directory='/content/',\n",
        "  x_col=\"filename\",\n",
        "  batch_size=1,\n",
        "  seed=42,\n",
        "  shuffle=True,\n",
        "  class_mode=None,\n",
        "  target_size=(50,50))\n",
        "\n",
        "\n",
        "predict_img = model.predict_generator(holdout_generator,steps=1) \n",
        "\n",
        "# get categories\n",
        "predicted_class_indices=np.argmax(predict_img,axis=1)\n",
        "\n",
        "labels = (train_generator.class_indices)\n",
        "labels = dict((v,k) for k,v in labels.items())\n",
        "predictions = [labels[k] for k in predicted_class_indices]\n",
        "\n",
        "# create df of results\n",
        "filenames=holdout_generator.filenames\n",
        "results=pd.DataFrame({\"filename\":filenames,\n",
        "                      \"prediction\":predictions})\n",
        "\n",
        "results"
      ],
      "execution_count": 0,
      "outputs": [
        {
          "output_type": "stream",
          "text": [
            "Found 1 validated image filenames.\n"
          ],
          "name": "stdout"
        },
        {
          "output_type": "execute_result",
          "data": {
            "text/html": [
              "<div>\n",
              "<style scoped>\n",
              "    .dataframe tbody tr th:only-of-type {\n",
              "        vertical-align: middle;\n",
              "    }\n",
              "\n",
              "    .dataframe tbody tr th {\n",
              "        vertical-align: top;\n",
              "    }\n",
              "\n",
              "    .dataframe thead th {\n",
              "        text-align: right;\n",
              "    }\n",
              "</style>\n",
              "<table border=\"1\" class=\"dataframe\">\n",
              "  <thead>\n",
              "    <tr style=\"text-align: right;\">\n",
              "      <th></th>\n",
              "      <th>filename</th>\n",
              "      <th>prediction</th>\n",
              "    </tr>\n",
              "  </thead>\n",
              "  <tbody>\n",
              "    <tr>\n",
              "      <th>0</th>\n",
              "      <td>/content/gdrive/My Drive/chinese/holdout/chara...</td>\n",
              "      <td>a5d0</td>\n",
              "    </tr>\n",
              "  </tbody>\n",
              "</table>\n",
              "</div>"
            ],
            "text/plain": [
              "                                            filename prediction\n",
              "0  /content/gdrive/My Drive/chinese/holdout/chara...       a5d0"
            ]
          },
          "metadata": {
            "tags": []
          },
          "execution_count": 104
        }
      ]
    },
    {
      "cell_type": "code",
      "metadata": {
        "id": "GzJSJM9brWka",
        "colab_type": "code",
        "outputId": "d97ea69a-3a82-4fad-cc60-4dd73f4369a7",
        "colab": {
          "base_uri": "https://localhost:8080/",
          "height": 431
        }
      },
      "source": [
        "for index, row in results.iterrows():\n",
        "  print(row.filename)\n",
        "  img=mpimg.imread(row.filename)\n",
        "  imgplot = plt.imshow(img)\n",
        "  plt.title('Image:')\n",
        "  plt.axis('off')\n",
        "  plt.show()\n",
        "  \n",
        "  print('Predicting image as:', bytes.fromhex(row.prediction).decode('big5'))\n",
        "  sample_characters(row.prediction)"
      ],
      "execution_count": 0,
      "outputs": [
        {
          "output_type": "stream",
          "text": [
            "/content/gdrive/My Drive/chinese/holdout/character_classification/c4.png\n"
          ],
          "name": "stdout"
        },
        {
          "output_type": "display_data",
          "data": {
            "image/png": "[encoded data removed]",
            "text/plain": [
              "<Figure size 432x288 with 1 Axes>"
            ]
          },
          "metadata": {
            "tags": []
          }
        },
        {
          "output_type": "stream",
          "text": [
            "Predicting image as: 田\n"
          ],
          "name": "stdout"
        },
        {
          "output_type": "display_data",
          "data": {
            "image/png": "[encoded data removed]",
            "text/plain": [
              "<Figure size 576x576 with 4 Axes>"
            ]
          },
          "metadata": {
            "tags": []
          }
        }
      ]
    },
    {
      "cell_type": "code",
      "metadata": {
        "id": "QeTCFjLKtJc2",
        "colab_type": "code",
        "outputId": "d4c97097-1462-4d3b-90f9-7b21f7bec519",
        "colab": {
          "base_uri": "https://localhost:8080/",
          "height": 35
        }
      },
      "source": [
        "results.predictions[0]"
      ],
      "execution_count": 0,
      "outputs": [
        {
          "output_type": "execute_result",
          "data": {
            "text/plain": [
              "'a4eb'"
            ]
          },
          "metadata": {
            "tags": []
          },
          "execution_count": 118
        }
      ]
    },
    {
      "cell_type": "code",
      "metadata": {
        "id": "9mBxU3w9B6N7",
        "colab_type": "code",
        "colab": {}
      },
      "source": [
        ""
      ],
      "execution_count": 0,
      "outputs": []
    }
  ]
}